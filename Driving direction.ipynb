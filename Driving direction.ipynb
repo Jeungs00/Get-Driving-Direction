{
 "cells": [
  {
   "cell_type": "code",
   "execution_count": 85,
   "id": "bfeb93eb",
   "metadata": {},
   "outputs": [],
   "source": [
    "\n",
    "#Write a Python program that gets from the user an origin and a destination location,\n",
    "#and displays the driving instructions to get from the origin to the destination. For each leg of the\n",
    "#route, show the driving instruction, distance and time.\n",
    "#import requests\n",
    "#import json\n",
    "#url = 'https://developer.mapquest.com/documentation/samples/directions/v2/route'\n",
    "#api_key = \"XPo87PnIKhD3YzPs9cK2dXmOmUVP6V5M\"\n"
   ]
  },
  {
   "cell_type": "code",
   "execution_count": 75,
   "id": "e3e5276c",
   "metadata": {},
   "outputs": [],
   "source": [
    " #driving_instruction = []\n",
    "    #distance = []\n",
    "    #ETA = []\n",
    "     #driving_instruction.append(dri)\n",
    "        #distance.append(dis)\n",
    "        #ETA.append(t)\n",
    "        "
   ]
  },
  {
   "cell_type": "code",
   "execution_count": 4,
   "id": "9f37e0e1",
   "metadata": {},
   "outputs": [
    {
     "name": "stdin",
     "output_type": "stream",
     "text": [
      "Enter the origin location:  Northeastern University\n",
      "Enter the destination location:  Boston Logan International airport\n"
     ]
    },
    {
     "name": "stdout",
     "output_type": "stream",
     "text": [
      "Leg Instructions:\n",
      "- Head toward Orchard Hill Rd on Valentine Rd. Go for 1.5 mi. (Distance: 1.49 miles, Time: 00:05:39)\n",
      "- Turn left onto Orchard Hill Rd (CT-169). Go for 1.2 mi. (Distance: 1.22 miles, Time: 00:01:51)\n",
      "- Turn right onto Killingly Rd (CT-101). Go for 2.4 mi. (Distance: 2.44 miles, Time: 00:03:11)\n",
      "- Turn left onto Lake Rd. Go for 2.1 mi. (Distance: 2.08 miles, Time: 00:03:40)\n",
      "- Continue on Attawaugan Crossing Rd. Go for 0.3 mi. (Distance: 0.32 miles, Time: 00:00:51)\n",
      "- Turn left and take ramp onto I-395 N toward Worcester. Go for 11.8 mi. (Distance: 11.77 miles, Time: 00:10:14)\n",
      "- Continue on I-395 N. Go for 11.8 mi. (Distance: 11.75 miles, Time: 00:10:05)\n",
      "- Continue on I-290 E. Go for 0.4 mi. (Distance: 0.36 miles, Time: 00:00:23)\n",
      "- Take exit 12 toward Mass. Pike/I-90/Auburn onto RT-12 S (Southbridge St). Go for 0.7 mi. (Distance: 0.73 miles, Time: 00:01:20)\n",
      "- Take ramp onto I-90 E (Mass Pike). Go for 48.4 mi. (Distance: 48.36 miles, Time: 00:45:53)\n",
      "- Take ramp toward RT-145/Bennington St/East Boston/Winthrop. Go for 0.1 mi. (Distance: 0.15 miles, Time: 00:00:37)\n",
      "- Make a U-Turn. Go for 328 ft. (Distance: 0.06 miles, Time: 00:00:22)\n",
      "- Take ramp onto William F McClellan Hwy (RT-1A S). Go for 0.2 mi. (Distance: 0.24 miles, Time: 00:00:26)\n",
      "- Keep left onto Mass Pike (I-90 W) toward Mass Pike/Williams Tunnel/I-93 S/Logan Airport. Go for 0.1 mi. (Distance: 0.14 miles, Time: 00:00:12)\n",
      "- Take the exit toward Logan Airport. Go for 0.2 mi. (Distance: 0.22 miles, Time: 00:00:24)\n",
      "- Arrive at your destination on the right. (Distance: 0.00 miles, Time: 00:00:00)\n",
      "\n"
     ]
    }
   ],
   "source": [
    "import requests\n",
    "def get_driving_directions(origin, destination):\n",
    "    api_key = \"XPo87PnIKhD3YzPs9cK2dXmOmUVP6V5M\"\n",
    "    url = f\"http://www.mapquestapi.com/directions/v2/route?key={api_key}&from={origin}&to={destination}&unit=M&routeType=fastest\"\n",
    "    \n",
    "    response = requests.get(url)\n",
    "    data = response.json()\n",
    "    \n",
    "    if data[\"info\"][\"statuscode\"] == 0:\n",
    "        legs = data[\"route\"][\"legs\"]\n",
    "        for leg in legs:\n",
    "            print(\"Leg Instructions:\")\n",
    "            for maneuver in leg[\"maneuvers\"]:\n",
    "                print(f\"- {maneuver['narrative']} (Distance: {maneuver['distance']:.2f} miles, Time: {maneuver['formattedTime']})\")\n",
    "            print()\n",
    "    else:\n",
    "        print(\"Error:\", data[\"info\"][\"messages\"])\n",
    "\n",
    "def main():\n",
    "    origin = input(\"Enter the origin location: \")\n",
    "    destination = input(\"Enter the destination location: \")\n",
    "    \n",
    "    get_driving_directions(origin, destination)\n",
    "\n",
    "if __name__ == \"__main__\":\n",
    "    main()\n",
    "    "
   ]
  },
  {
   "cell_type": "code",
   "execution_count": null,
   "id": "6802b459",
   "metadata": {},
   "outputs": [],
   "source": []
  }
 ],
 "metadata": {
  "kernelspec": {
   "display_name": "Python 3 (ipykernel)",
   "language": "python",
   "name": "python3"
  },
  "language_info": {
   "codemirror_mode": {
    "name": "ipython",
    "version": 3
   },
   "file_extension": ".py",
   "mimetype": "text/x-python",
   "name": "python",
   "nbconvert_exporter": "python",
   "pygments_lexer": "ipython3",
   "version": "3.12.7"
  }
 },
 "nbformat": 4,
 "nbformat_minor": 5
}
